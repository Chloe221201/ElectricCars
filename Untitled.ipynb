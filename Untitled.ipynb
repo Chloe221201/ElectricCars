{
 "cells": [
  {
   "cell_type": "code",
   "execution_count": null,
   "id": "e218c6f6-5919-40c1-b418-25240cf1107f",
   "metadata": {
    "vscode": {
     "languageId": "python"
    }
   },
   "outputs": [],
   "source": [
    "import pandas as pd\n",
    "import numpy as np\n",
    "import matplotlib.pyplot as plt\n",
    "import seaborn as sns\n"
   ]
  },
  {
   "cell_type": "code",
   "execution_count": null,
   "id": "4bfd5197",
   "metadata": {
    "vscode": {
     "languageId": "python"
    }
   },
   "outputs": [],
   "source": [
    "#Importar un archivo CSV\n",
    "\n",
    "# Cargar el archivo CSV\n",
    "df_csv = pd.read_csv(\"electric_vehicle_data.csv\")\n",
    "\n",
    "# Mostrar las primeras filas del archivo importado\n",
    "print(df_csv.head())\n",
    "\n",
    "# Mostrar la estructura del DataFrame\n",
    "print(df_csv.info())\n",
    "\n",
    "# Mostrar un resumen estadístico de las variables numéricas\n",
    "print(df_csv.describe())"
   ]
  },
  {
   "cell_type": "code",
   "execution_count": null,
   "id": "6b952caa",
   "metadata": {
    "vscode": {
     "languageId": "python"
    }
   },
   "outputs": [],
   "source": [
    "# VIN debe ser el índice de DataFrame\n",
    "\n",
    "#Lo solucionamos: \n",
    "\n",
    "df_csv = df_csv.set_index(\"VIN (1-10)\")\n",
    "\n",
    "# Confirme si el índice se configuró correctamente\n",
    "print(df_csv.head())\n",
    "\n",
    "print(df_csv.describe())"
   ]
  }
 ],
 "metadata": {
  "kernelspec": {
   "display_name": "",
   "name": ""
  },
  "language_info": {
   "name": ""
  }
 },
 "nbformat": 4,
 "nbformat_minor": 5
}
