{
 "cells": [
  {
   "cell_type": "code",
   "execution_count": null,
   "id": "e218c6f6-5919-40c1-b418-25240cf1107f",
   "metadata": {},
   "outputs": [],
   "source": []
  }
 ],
 "metadata": {
  "kernelspec": {
   "display_name": "",
   "name": ""
  },
  "language_info": {
   "name": ""
  }
 },
 "nbformat": 4,
 "nbformat_minor": 5
}
