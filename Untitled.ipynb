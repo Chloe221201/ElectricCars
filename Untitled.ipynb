{
 "cells": [
  {
   "cell_type": "code",
   "execution_count": null,
   "id": "7159fea6",
   "metadata": {
    "vscode": {
     "languageId": "python"
    }
   },
   "outputs": [],
   "source": [
    "!pip install shapely\n",
    "!pip install matplotlib\n",
    "!pip install seaborn"
   ]
  },
  {
   "cell_type": "code",
   "execution_count": null,
   "id": "e218c6f6-5919-40c1-b418-25240cf1107f",
   "metadata": {
    "vscode": {
     "languageId": "python"
    }
   },
   "outputs": [],
   "source": [
    "import pandas as pd\n",
    "import numpy as np\n",
    "import matplotlib.pyplot as plt\n",
    "import seaborn as sns\n"
   ]
  },
  {
   "cell_type": "code",
   "execution_count": null,
   "id": "4bfd5197",
   "metadata": {
    "vscode": {
     "languageId": "python"
    }
   },
   "outputs": [],
   "source": [
    "#Importar un archivo CSV\n",
    "\n",
    "# Cargar el archivo CSV\n",
    "df_csv = pd.read_csv(\"electric_vehicle_data.csv\")\n",
    "\n",
    "# Mostrar las primeras filas del archivo importado\n",
    "print(df_csv.head())\n",
    "\n",
    "# Mostrar la estructura del DataFrame\n",
    "print(df_csv.info())\n",
    "\n",
    "# Mostrar un resumen estadístico de las variables numéricas\n",
    "print(df_csv.describe())"
   ]
  },
  {
   "cell_type": "code",
   "execution_count": null,
   "id": "6b952caa",
   "metadata": {
    "vscode": {
     "languageId": "python"
    }
   },
   "outputs": [],
   "source": [
    "# VIN debe ser el índice de DataFrame\n",
    "\n",
    "#Lo solucionamos: \n",
    "\n",
    "df_csv = df_csv.set_index(\"VIN (1-10)\")\n",
    "\n",
    "# Confirme si el índice se configuró correctamente\n",
    "print(df_csv.head())\n",
    "\n",
    "print(df_csv.describe())"
   ]
  },
  {
   "cell_type": "code",
   "execution_count": null,
   "id": "9228f22a",
   "metadata": {
    "vscode": {
     "languageId": "python"
    }
   },
   "outputs": [],
   "source": []
  },
  {
   "cell_type": "code",
   "execution_count": null,
   "id": "d636ef09",
   "metadata": {
    "vscode": {
     "languageId": "python"
    }
   },
   "outputs": [],
   "source": [
    "\n",
    "#  Detectar y tratar los datos ausentes es una parte crucial en el proceso de limpieza de datos. \n",
    "# Detectar valores nulos en todo el DataFrame\n",
    "print(df_csv.isnull().sum())"
   ]
  },
  {
   "cell_type": "code",
   "execution_count": null,
   "id": "7bf2108e",
   "metadata": {
    "vscode": {
     "languageId": "python"
    }
   },
   "outputs": [],
   "source": [
    "#Copia del csv por si queremos recuperar después\n",
    "df_csv2 = df_csv.copy()\n"
   ]
  },
  {
   "cell_type": "code",
   "execution_count": null,
   "id": "90ef76bb",
   "metadata": {
    "vscode": {
     "languageId": "python"
    }
   },
   "outputs": [],
   "source": [
    "#Eliminamos los valores nulos, porque tenemos una columna de datos cuantitativa que es CP del cual no tiene sentido hacer la media\n",
    "df_csv2= df_csv2.dropna()\n",
    "#Comprobamos que se hallan borrandonoslas los campos nulos y a partir de ahora trabajamos con la copia\n",
    "print(df_csv2.isnull().sum())\n"
   ]
  },
  {
   "cell_type": "code",
   "execution_count": null,
   "id": "62405561",
   "metadata": {
    "vscode": {
     "languageId": "python"
    }
   },
   "outputs": [],
   "source": [
    "# Comprobar el tipo de dato de cada columna\n",
    "df_csv2.dtypes"
   ]
  },
  {
   "cell_type": "code",
   "execution_count": null,
   "id": "c6150e8f",
   "metadata": {
    "vscode": {
     "languageId": "python"
    }
   },
   "outputs": [],
   "source": [
    "#Comprobamos si se está interpretando bien la clase \"POINT\" de la columna Vehicle Location\n",
    "print(type(df_csv2['Vehicle Location'].iloc[0]))"
   ]
  },
  {
   "cell_type": "code",
   "execution_count": null,
   "id": "80cd7a7e",
   "metadata": {
    "vscode": {
     "languageId": "python"
    }
   },
   "outputs": [],
   "source": [
    "#No funciona, creo que no es necesario esto\n",
    "#from shapely.wkt import loads as wkt_loads\n",
    "\n",
    "# Aplica la conversión a cada fila de la columna\n",
    "#df_csv2['Vehicle Location'] = df_csv2['Vehicle Location'].apply(wkt_loads)"
   ]
  }
 ],
 "metadata": {
  "kernelspec": {
   "display_name": "",
   "name": ""
  },
  "language_info": {
   "name": ""
  }
 },
 "nbformat": 4,
 "nbformat_minor": 5
}
