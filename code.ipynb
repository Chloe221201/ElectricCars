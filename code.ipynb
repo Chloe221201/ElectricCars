{
 "cells": [
  {
   "cell_type": "code",
   "execution_count": null,
   "id": "e218c6f6-5919-40c1-b418-25240cf1107f",
   "metadata": {
    "vscode": {
     "languageId": "python"
    }
   },
   "outputs": [],
   "source": [
    "import pandas as pd\n",
    "import numpy as np\n",
    "import matplotlib.pyplot as plt\n",
    "import seaborn as sns\n"
   ]
  }
 ],
 "metadata": {
  "kernelspec": {
   "display_name": "",
   "name": ""
  },
  "language_info": {
   "name": ""
  }
 },
 "nbformat": 4,
 "nbformat_minor": 5
}
