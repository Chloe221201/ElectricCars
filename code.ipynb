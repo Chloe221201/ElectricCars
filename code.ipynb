{
 "cells": [
  {
   "cell_type": "code",
   "execution_count": 2,
   "id": "b788dd27-d727-4ea3-9720-ebfcab6b23b9",
   "metadata": {},
   "outputs": [
    {
     "name": "stdout",
     "output_type": "stream",
     "text": [
      "Requirement already satisfied: shapely in /opt/anaconda3/envs/ElectricCars/lib/python3.12/site-packages (2.0.6)\n",
      "Requirement already satisfied: numpy<3,>=1.14 in /opt/anaconda3/envs/ElectricCars/lib/python3.12/site-packages (from shapely) (2.0.1)\n",
      "Requirement already satisfied: matplotlib in /opt/anaconda3/envs/ElectricCars/lib/python3.12/site-packages (3.10.0)\n",
      "Requirement already satisfied: contourpy>=1.0.1 in /opt/anaconda3/envs/ElectricCars/lib/python3.12/site-packages (from matplotlib) (1.3.1)\n",
      "Requirement already satisfied: cycler>=0.10 in /opt/anaconda3/envs/ElectricCars/lib/python3.12/site-packages (from matplotlib) (0.11.0)\n",
      "Requirement already satisfied: fonttools>=4.22.0 in /opt/anaconda3/envs/ElectricCars/lib/python3.12/site-packages (from matplotlib) (4.55.3)\n",
      "Requirement already satisfied: kiwisolver>=1.3.1 in /opt/anaconda3/envs/ElectricCars/lib/python3.12/site-packages (from matplotlib) (1.4.8)\n",
      "Requirement already satisfied: numpy>=1.23 in /opt/anaconda3/envs/ElectricCars/lib/python3.12/site-packages (from matplotlib) (2.0.1)\n",
      "Requirement already satisfied: packaging>=20.0 in /opt/anaconda3/envs/ElectricCars/lib/python3.12/site-packages (from matplotlib) (24.2)\n",
      "Requirement already satisfied: pillow>=8 in /opt/anaconda3/envs/ElectricCars/lib/python3.12/site-packages (from matplotlib) (11.1.0)\n",
      "Requirement already satisfied: pyparsing>=2.3.1 in /opt/anaconda3/envs/ElectricCars/lib/python3.12/site-packages (from matplotlib) (3.2.0)\n",
      "Requirement already satisfied: python-dateutil>=2.7 in /opt/anaconda3/envs/ElectricCars/lib/python3.12/site-packages (from matplotlib) (2.9.0.post0)\n",
      "Requirement already satisfied: six>=1.5 in /opt/anaconda3/envs/ElectricCars/lib/python3.12/site-packages (from python-dateutil>=2.7->matplotlib) (1.17.0)\n",
      "Requirement already satisfied: seaborn in /opt/anaconda3/envs/ElectricCars/lib/python3.12/site-packages (0.13.2)\n",
      "Requirement already satisfied: numpy!=1.24.0,>=1.20 in /opt/anaconda3/envs/ElectricCars/lib/python3.12/site-packages (from seaborn) (2.0.1)\n",
      "Requirement already satisfied: pandas>=1.2 in /opt/anaconda3/envs/ElectricCars/lib/python3.12/site-packages (from seaborn) (2.2.3)\n",
      "Requirement already satisfied: matplotlib!=3.6.1,>=3.4 in /opt/anaconda3/envs/ElectricCars/lib/python3.12/site-packages (from seaborn) (3.10.0)\n",
      "Requirement already satisfied: contourpy>=1.0.1 in /opt/anaconda3/envs/ElectricCars/lib/python3.12/site-packages (from matplotlib!=3.6.1,>=3.4->seaborn) (1.3.1)\n",
      "Requirement already satisfied: cycler>=0.10 in /opt/anaconda3/envs/ElectricCars/lib/python3.12/site-packages (from matplotlib!=3.6.1,>=3.4->seaborn) (0.11.0)\n",
      "Requirement already satisfied: fonttools>=4.22.0 in /opt/anaconda3/envs/ElectricCars/lib/python3.12/site-packages (from matplotlib!=3.6.1,>=3.4->seaborn) (4.55.3)\n",
      "Requirement already satisfied: kiwisolver>=1.3.1 in /opt/anaconda3/envs/ElectricCars/lib/python3.12/site-packages (from matplotlib!=3.6.1,>=3.4->seaborn) (1.4.8)\n",
      "Requirement already satisfied: packaging>=20.0 in /opt/anaconda3/envs/ElectricCars/lib/python3.12/site-packages (from matplotlib!=3.6.1,>=3.4->seaborn) (24.2)\n",
      "Requirement already satisfied: pillow>=8 in /opt/anaconda3/envs/ElectricCars/lib/python3.12/site-packages (from matplotlib!=3.6.1,>=3.4->seaborn) (11.1.0)\n",
      "Requirement already satisfied: pyparsing>=2.3.1 in /opt/anaconda3/envs/ElectricCars/lib/python3.12/site-packages (from matplotlib!=3.6.1,>=3.4->seaborn) (3.2.0)\n",
      "Requirement already satisfied: python-dateutil>=2.7 in /opt/anaconda3/envs/ElectricCars/lib/python3.12/site-packages (from matplotlib!=3.6.1,>=3.4->seaborn) (2.9.0.post0)\n",
      "Requirement already satisfied: pytz>=2020.1 in /opt/anaconda3/envs/ElectricCars/lib/python3.12/site-packages (from pandas>=1.2->seaborn) (2025.2)\n",
      "Requirement already satisfied: tzdata>=2022.7 in /opt/anaconda3/envs/ElectricCars/lib/python3.12/site-packages (from pandas>=1.2->seaborn) (2025.2)\n",
      "Requirement already satisfied: six>=1.5 in /opt/anaconda3/envs/ElectricCars/lib/python3.12/site-packages (from python-dateutil>=2.7->matplotlib!=3.6.1,>=3.4->seaborn) (1.17.0)\n"
     ]
    }
   ],
   "source": [
    "!pip install shapely\n",
    "!pip install matplotlib\n",
    "!pip install seaborn"
   ]
  },
  {
   "cell_type": "code",
   "execution_count": 3,
   "id": "e218c6f6-5919-40c1-b418-25240cf1107f",
   "metadata": {},
   "outputs": [],
   "source": [
    "import pandas as pd\n",
    "import numpy as np\n",
    "import matplotlib.pyplot as plt\n",
    "import seaborn as sns\n"
   ]
  },
  {
   "cell_type": "code",
   "execution_count": 4,
   "id": "78290127-5975-478b-8b27-cc451536430c",
   "metadata": {},
   "outputs": [
    {
     "name": "stdout",
     "output_type": "stream",
     "text": [
      "   VIN (1-10)    County     City State  Postal Code  Model Year     Make  \\\n",
      "0  5YJ3E1EBXK      King  Seattle    WA      98178.0        2019    TESLA   \n",
      "1  5YJYGDEE3L    Kitsap  Poulsbo    WA      98370.0        2020    TESLA   \n",
      "2  KM8KRDAF5P    Kitsap   Olalla    WA      98359.0        2023  HYUNDAI   \n",
      "3  5UXTA6C0XM    Kitsap  Seabeck    WA      98380.0        2021      BMW   \n",
      "4  JTMAB3FV7P  Thurston  Rainier    WA      98576.0        2023   TOYOTA   \n",
      "\n",
      "        Model                   Electric Vehicle Type  \\\n",
      "0     MODEL 3          Battery Electric Vehicle (BEV)   \n",
      "1     MODEL Y          Battery Electric Vehicle (BEV)   \n",
      "2     IONIQ 5          Battery Electric Vehicle (BEV)   \n",
      "3          X5  Plug-in Hybrid Electric Vehicle (PHEV)   \n",
      "4  RAV4 PRIME  Plug-in Hybrid Electric Vehicle (PHEV)   \n",
      "\n",
      "   Clean Alternative Fuel Vehicle (CAFV) Eligibility  Electric Range  \\\n",
      "0            Clean Alternative Fuel Vehicle Eligible           220.0   \n",
      "1            Clean Alternative Fuel Vehicle Eligible           291.0   \n",
      "2  Eligibility unknown as battery range has not b...             0.0   \n",
      "3            Clean Alternative Fuel Vehicle Eligible            30.0   \n",
      "4            Clean Alternative Fuel Vehicle Eligible            42.0   \n",
      "\n",
      "   Base MSRP  Legislative District  DOL Vehicle ID  \\\n",
      "0        0.0                  37.0       477309682   \n",
      "1        0.0                  23.0       109705683   \n",
      "2        0.0                  26.0       230390492   \n",
      "3        0.0                  35.0       267929112   \n",
      "4        0.0                   2.0       236505139   \n",
      "\n",
      "              Vehicle Location                              Electric Utility  \\\n",
      "0  POINT (-122.23825 47.49461)  CITY OF SEATTLE - (WA)|CITY OF TACOMA - (WA)   \n",
      "1  POINT (-122.64681 47.73689)                        PUGET SOUND ENERGY INC   \n",
      "2  POINT (-122.54729 47.42602)                        PUGET SOUND ENERGY INC   \n",
      "3  POINT (-122.81585 47.64509)                        PUGET SOUND ENERGY INC   \n",
      "4  POINT (-122.68993 46.88897)                        PUGET SOUND ENERGY INC   \n",
      "\n",
      "   2020 Census Tract  \n",
      "0       5.303301e+10  \n",
      "1       5.303509e+10  \n",
      "2       5.303509e+10  \n",
      "3       5.303509e+10  \n",
      "4       5.306701e+10  \n",
      "<class 'pandas.core.frame.DataFrame'>\n",
      "RangeIndex: 235692 entries, 0 to 235691\n",
      "Data columns (total 17 columns):\n",
      " #   Column                                             Non-Null Count   Dtype  \n",
      "---  ------                                             --------------   -----  \n",
      " 0   VIN (1-10)                                         235692 non-null  object \n",
      " 1   County                                             235689 non-null  object \n",
      " 2   City                                               235689 non-null  object \n",
      " 3   State                                              235692 non-null  object \n",
      " 4   Postal Code                                        235689 non-null  float64\n",
      " 5   Model Year                                         235692 non-null  int64  \n",
      " 6   Make                                               235692 non-null  object \n",
      " 7   Model                                              235692 non-null  object \n",
      " 8   Electric Vehicle Type                              235692 non-null  object \n",
      " 9   Clean Alternative Fuel Vehicle (CAFV) Eligibility  235692 non-null  object \n",
      " 10  Electric Range                                     235656 non-null  float64\n",
      " 11  Base MSRP                                          235656 non-null  float64\n",
      " 12  Legislative District                               235198 non-null  float64\n",
      " 13  DOL Vehicle ID                                     235692 non-null  int64  \n",
      " 14  Vehicle Location                                   235682 non-null  object \n",
      " 15  Electric Utility                                   235689 non-null  object \n",
      " 16  2020 Census Tract                                  235689 non-null  float64\n",
      "dtypes: float64(5), int64(2), object(10)\n",
      "memory usage: 30.6+ MB\n",
      "None\n",
      "         Postal Code     Model Year  Electric Range      Base MSRP  \\\n",
      "count  235689.000000  235692.000000   235656.000000  235656.000000   \n",
      "mean    98177.656463    2021.406658       46.262569     787.268328   \n",
      "std      2524.218661       2.991908       84.045829    7177.668305   \n",
      "min      1731.000000    2000.000000        0.000000       0.000000   \n",
      "25%     98052.000000    2020.000000        0.000000       0.000000   \n",
      "50%     98126.000000    2023.000000        0.000000       0.000000   \n",
      "75%     98374.000000    2024.000000       38.000000       0.000000   \n",
      "max     99577.000000    2025.000000      337.000000  845000.000000   \n",
      "\n",
      "       Legislative District  DOL Vehicle ID  2020 Census Tract  \n",
      "count         235198.000000    2.356920e+05       2.356890e+05  \n",
      "mean              28.879519    2.353127e+08       5.298066e+10  \n",
      "std               14.904644    6.799098e+07       1.521066e+09  \n",
      "min                1.000000    4.385000e+03       1.001020e+09  \n",
      "25%               17.000000    2.053457e+08       5.303301e+10  \n",
      "50%               32.000000    2.522795e+08       5.303303e+10  \n",
      "75%               42.000000    2.696401e+08       5.305307e+10  \n",
      "max               49.000000    4.792548e+08       5.602100e+10  \n"
     ]
    }
   ],
   "source": [
    "#Importar un archivo CSV\n",
    "\n",
    "# Cargar el archivo CSV\n",
    "df_csv = pd.read_csv(\"electric_vehicle_data.csv\")\n",
    "\n",
    "# Mostrar las primeras filas del archivo importado\n",
    "print(df_csv.head())\n",
    "\n",
    "# Mostrar la estructura del DataFrame\n",
    "print(df_csv.info())\n",
    "\n",
    "# Mostrar un resumen estadístico de las variables numéricas\n",
    "print(df_csv.describe())"
   ]
  },
  {
   "cell_type": "code",
   "execution_count": 5,
   "id": "64b7d311-efcc-4096-82e3-c52a07284a2c",
   "metadata": {},
   "outputs": [
    {
     "name": "stdout",
     "output_type": "stream",
     "text": [
      "              County     City State  Postal Code  Model Year     Make  \\\n",
      "VIN (1-10)                                                              \n",
      "5YJ3E1EBXK      King  Seattle    WA      98178.0        2019    TESLA   \n",
      "5YJYGDEE3L    Kitsap  Poulsbo    WA      98370.0        2020    TESLA   \n",
      "KM8KRDAF5P    Kitsap   Olalla    WA      98359.0        2023  HYUNDAI   \n",
      "5UXTA6C0XM    Kitsap  Seabeck    WA      98380.0        2021      BMW   \n",
      "JTMAB3FV7P  Thurston  Rainier    WA      98576.0        2023   TOYOTA   \n",
      "\n",
      "                 Model                   Electric Vehicle Type  \\\n",
      "VIN (1-10)                                                       \n",
      "5YJ3E1EBXK     MODEL 3          Battery Electric Vehicle (BEV)   \n",
      "5YJYGDEE3L     MODEL Y          Battery Electric Vehicle (BEV)   \n",
      "KM8KRDAF5P     IONIQ 5          Battery Electric Vehicle (BEV)   \n",
      "5UXTA6C0XM          X5  Plug-in Hybrid Electric Vehicle (PHEV)   \n",
      "JTMAB3FV7P  RAV4 PRIME  Plug-in Hybrid Electric Vehicle (PHEV)   \n",
      "\n",
      "            Clean Alternative Fuel Vehicle (CAFV) Eligibility  Electric Range  \\\n",
      "VIN (1-10)                                                                      \n",
      "5YJ3E1EBXK            Clean Alternative Fuel Vehicle Eligible           220.0   \n",
      "5YJYGDEE3L            Clean Alternative Fuel Vehicle Eligible           291.0   \n",
      "KM8KRDAF5P  Eligibility unknown as battery range has not b...             0.0   \n",
      "5UXTA6C0XM            Clean Alternative Fuel Vehicle Eligible            30.0   \n",
      "JTMAB3FV7P            Clean Alternative Fuel Vehicle Eligible            42.0   \n",
      "\n",
      "            Base MSRP  Legislative District  DOL Vehicle ID  \\\n",
      "VIN (1-10)                                                    \n",
      "5YJ3E1EBXK        0.0                  37.0       477309682   \n",
      "5YJYGDEE3L        0.0                  23.0       109705683   \n",
      "KM8KRDAF5P        0.0                  26.0       230390492   \n",
      "5UXTA6C0XM        0.0                  35.0       267929112   \n",
      "JTMAB3FV7P        0.0                   2.0       236505139   \n",
      "\n",
      "                       Vehicle Location  \\\n",
      "VIN (1-10)                                \n",
      "5YJ3E1EBXK  POINT (-122.23825 47.49461)   \n",
      "5YJYGDEE3L  POINT (-122.64681 47.73689)   \n",
      "KM8KRDAF5P  POINT (-122.54729 47.42602)   \n",
      "5UXTA6C0XM  POINT (-122.81585 47.64509)   \n",
      "JTMAB3FV7P  POINT (-122.68993 46.88897)   \n",
      "\n",
      "                                        Electric Utility  2020 Census Tract  \n",
      "VIN (1-10)                                                                   \n",
      "5YJ3E1EBXK  CITY OF SEATTLE - (WA)|CITY OF TACOMA - (WA)       5.303301e+10  \n",
      "5YJYGDEE3L                        PUGET SOUND ENERGY INC       5.303509e+10  \n",
      "KM8KRDAF5P                        PUGET SOUND ENERGY INC       5.303509e+10  \n",
      "5UXTA6C0XM                        PUGET SOUND ENERGY INC       5.303509e+10  \n",
      "JTMAB3FV7P                        PUGET SOUND ENERGY INC       5.306701e+10  \n",
      "         Postal Code     Model Year  Electric Range      Base MSRP  \\\n",
      "count  235689.000000  235692.000000   235656.000000  235656.000000   \n",
      "mean    98177.656463    2021.406658       46.262569     787.268328   \n",
      "std      2524.218661       2.991908       84.045829    7177.668305   \n",
      "min      1731.000000    2000.000000        0.000000       0.000000   \n",
      "25%     98052.000000    2020.000000        0.000000       0.000000   \n",
      "50%     98126.000000    2023.000000        0.000000       0.000000   \n",
      "75%     98374.000000    2024.000000       38.000000       0.000000   \n",
      "max     99577.000000    2025.000000      337.000000  845000.000000   \n",
      "\n",
      "       Legislative District  DOL Vehicle ID  2020 Census Tract  \n",
      "count         235198.000000    2.356920e+05       2.356890e+05  \n",
      "mean              28.879519    2.353127e+08       5.298066e+10  \n",
      "std               14.904644    6.799098e+07       1.521066e+09  \n",
      "min                1.000000    4.385000e+03       1.001020e+09  \n",
      "25%               17.000000    2.053457e+08       5.303301e+10  \n",
      "50%               32.000000    2.522795e+08       5.303303e+10  \n",
      "75%               42.000000    2.696401e+08       5.305307e+10  \n",
      "max               49.000000    4.792548e+08       5.602100e+10  \n"
     ]
    }
   ],
   "source": [
    "# VIN debe ser el índice de DataFrame\n",
    "\n",
    "#Lo solucionamos: \n",
    "\n",
    "df_csv = df_csv.set_index(\"VIN (1-10)\")\n",
    "\n",
    "# Confirme si el índice se configuró correctamente\n",
    "print(df_csv.head())\n",
    "\n",
    "print(df_csv.describe())"
   ]
  },
  {
   "cell_type": "code",
   "execution_count": 6,
   "id": "656a9f60-cb67-4ed5-946b-062d76473249",
   "metadata": {},
   "outputs": [
    {
     "name": "stdout",
     "output_type": "stream",
     "text": [
      "County                                                 3\n",
      "City                                                   3\n",
      "State                                                  0\n",
      "Postal Code                                            3\n",
      "Model Year                                             0\n",
      "Make                                                   0\n",
      "Model                                                  0\n",
      "Electric Vehicle Type                                  0\n",
      "Clean Alternative Fuel Vehicle (CAFV) Eligibility      0\n",
      "Electric Range                                        36\n",
      "Base MSRP                                             36\n",
      "Legislative District                                 494\n",
      "DOL Vehicle ID                                         0\n",
      "Vehicle Location                                      10\n",
      "Electric Utility                                       3\n",
      "2020 Census Tract                                      3\n",
      "dtype: int64\n"
     ]
    }
   ],
   "source": [
    "#  Detectar y tratar los datos ausentes es una parte crucial en el proceso de limpieza de datos. \n",
    "# Detectar valores nulos en todo el DataFrame\n",
    "print(df_csv.isnull().sum())"
   ]
  },
  {
   "cell_type": "code",
   "execution_count": 7,
   "id": "9b80b010-c07c-4add-9388-3a6855193201",
   "metadata": {},
   "outputs": [],
   "source": [
    "#Copia del csv por si queremos recuperar después\n",
    "df_csv2 = df_csv.copy()\n"
   ]
  },
  {
   "cell_type": "code",
   "execution_count": 8,
   "id": "8985e119-f705-4ce7-849e-e137703b5026",
   "metadata": {},
   "outputs": [
    {
     "name": "stdout",
     "output_type": "stream",
     "text": [
      "County                                               0\n",
      "City                                                 0\n",
      "State                                                0\n",
      "Postal Code                                          0\n",
      "Model Year                                           0\n",
      "Make                                                 0\n",
      "Model                                                0\n",
      "Electric Vehicle Type                                0\n",
      "Clean Alternative Fuel Vehicle (CAFV) Eligibility    0\n",
      "Electric Range                                       0\n",
      "Base MSRP                                            0\n",
      "Legislative District                                 0\n",
      "DOL Vehicle ID                                       0\n",
      "Vehicle Location                                     0\n",
      "Electric Utility                                     0\n",
      "2020 Census Tract                                    0\n",
      "dtype: int64\n"
     ]
    }
   ],
   "source": [
    "\n",
    "#Eliminamos los valores nulos\n",
    "df_csv2= df_csv2.dropna()\n",
    "#Comprobamos que se hallan borrandonoslas los campos nulos y a partir de ahora trabajamos con la copia\n",
    "print(df_csv2.isnull().sum())"
   ]
  },
  {
   "cell_type": "code",
   "execution_count": 9,
   "id": "9c2c92a9-4225-4136-82e4-496e28b62a9a",
   "metadata": {},
   "outputs": [
    {
     "data": {
      "text/plain": [
       "County                                                object\n",
       "City                                                  object\n",
       "State                                                 object\n",
       "Postal Code                                          float64\n",
       "Model Year                                             int64\n",
       "Make                                                  object\n",
       "Model                                                 object\n",
       "Electric Vehicle Type                                 object\n",
       "Clean Alternative Fuel Vehicle (CAFV) Eligibility     object\n",
       "Electric Range                                       float64\n",
       "Base MSRP                                            float64\n",
       "Legislative District                                 float64\n",
       "DOL Vehicle ID                                         int64\n",
       "Vehicle Location                                      object\n",
       "Electric Utility                                      object\n",
       "2020 Census Tract                                    float64\n",
       "dtype: object"
      ]
     },
     "execution_count": 9,
     "metadata": {},
     "output_type": "execute_result"
    }
   ],
   "source": [
    "# Comprobar el tipo de dato de cada columna \n",
    "df_csv2.dtypes"
   ]
  },
  {
   "cell_type": "code",
   "execution_count": 10,
   "id": "ebe65662-8664-486c-ab5d-06a2aa3b0679",
   "metadata": {},
   "outputs": [
    {
     "name": "stdout",
     "output_type": "stream",
     "text": [
      "<class 'str'>\n",
      "<class 'shapely.geometry.point.Point'>\n"
     ]
    }
   ],
   "source": [
    "#Verificar el tipo de datos de \"Vehicle Location\"\n",
    "print(type(df_csv2['Vehicle Location'].iloc[0]))\n",
    "\n",
    "#Conversión a \"Point\"\n",
    "from shapely.wkt import loads as wkt_loads\n",
    "\n",
    "df_csv2['Vehicle Location'] = df_csv2['Vehicle Location'].apply(\n",
    "    lambda x: wkt_loads(x) if pd.notnull(x) else None\n",
    ")\n",
    "\n",
    "print(type(df_csv2['Vehicle Location'].iloc[0]))"
   ]
  },
  {
   "cell_type": "code",
   "execution_count": 11,
   "id": "f6a30cec-e10d-48e5-8825-d044cb4b0f67",
   "metadata": {},
   "outputs": [],
   "source": [
    "\n",
    "#Cambiar el tipo de CP a string en vez de float\n",
    "df_csv2['Postal Code'] = df_csv2['Postal Code'].apply(\n",
    "    lambda x: str(int(x)) if pd.notnull(x) else ''\n",
    ")\n",
    "\n",
    "#El Census Tract es una cadena de caracteres identificativos de una subdivision de un condado de EEUU, \n",
    "#que al igual que el CP, no haremos operaciones matematicas sobre ella por lo que lo pasamos como string\n",
    "df_csv2['2020 Census Tract'] = df_csv2['2020 Census Tract'].apply(\n",
    "    lambda x: str(int(x)) if pd.notnull(x) else ''\n",
    ")\n",
    "\n",
    "df_csv2['DOL Vehicle ID'] = df_csv2['DOL Vehicle ID'].apply(\n",
    "    lambda x: str(int(x)) if pd.notnull(x) else ''\n",
    ")\n",
    "\n",
    "#Cambiar a enterno sin decimales\n",
    "df_csv2['Electric Range'] = df_csv2['Electric Range'].apply(lambda x: int(x) if pd.notnull(x) else None)\n",
    "df_csv2['Base MSRP'] = df_csv2['Base MSRP'].apply(lambda x: int(x) if pd.notnull(x) else None)\n"
   ]
  },
  {
   "cell_type": "code",
   "execution_count": 12,
   "id": "81e53283-9b1f-403c-ac58-0d038f765ab0",
   "metadata": {},
   "outputs": [
    {
     "data": {
      "text/plain": [
       "County                                                object\n",
       "City                                                  object\n",
       "State                                                 object\n",
       "Postal Code                                           object\n",
       "Model Year                                             int64\n",
       "Make                                                  object\n",
       "Model                                                 object\n",
       "Electric Vehicle Type                                 object\n",
       "Clean Alternative Fuel Vehicle (CAFV) Eligibility     object\n",
       "Electric Range                                         int64\n",
       "Base MSRP                                              int64\n",
       "Legislative District                                 float64\n",
       "DOL Vehicle ID                                        object\n",
       "Vehicle Location                                      object\n",
       "Electric Utility                                      object\n",
       "2020 Census Tract                                     object\n",
       "dtype: object"
      ]
     },
     "execution_count": 12,
     "metadata": {},
     "output_type": "execute_result"
    }
   ],
   "source": [
    "# Comprobar el tipo de dato de cada columna \n",
    "df_csv2.dtypes"
   ]
  },
  {
   "cell_type": "code",
   "execution_count": 13,
   "id": "2ea90367-af1c-48de-990c-076a7c6883b7",
   "metadata": {},
   "outputs": [
    {
     "name": "stdout",
     "output_type": "stream",
     "text": [
      "              County     City State Postal Code  Model Year     Make  \\\n",
      "VIN (1-10)                                                             \n",
      "5YJ3E1EBXK      King  Seattle    WA       98178        2019    TESLA   \n",
      "5YJYGDEE3L    Kitsap  Poulsbo    WA       98370        2020    TESLA   \n",
      "KM8KRDAF5P    Kitsap   Olalla    WA       98359        2023  HYUNDAI   \n",
      "5UXTA6C0XM    Kitsap  Seabeck    WA       98380        2021      BMW   \n",
      "JTMAB3FV7P  Thurston  Rainier    WA       98576        2023   TOYOTA   \n",
      "\n",
      "                 Model                   Electric Vehicle Type  \\\n",
      "VIN (1-10)                                                       \n",
      "5YJ3E1EBXK     MODEL 3          Battery Electric Vehicle (BEV)   \n",
      "5YJYGDEE3L     MODEL Y          Battery Electric Vehicle (BEV)   \n",
      "KM8KRDAF5P     IONIQ 5          Battery Electric Vehicle (BEV)   \n",
      "5UXTA6C0XM          X5  Plug-in Hybrid Electric Vehicle (PHEV)   \n",
      "JTMAB3FV7P  RAV4 PRIME  Plug-in Hybrid Electric Vehicle (PHEV)   \n",
      "\n",
      "            Clean Alternative Fuel Vehicle (CAFV) Eligibility  Electric Range  \\\n",
      "VIN (1-10)                                                                      \n",
      "5YJ3E1EBXK            Clean Alternative Fuel Vehicle Eligible             220   \n",
      "5YJYGDEE3L            Clean Alternative Fuel Vehicle Eligible             291   \n",
      "KM8KRDAF5P  Eligibility unknown as battery range has not b...               0   \n",
      "5UXTA6C0XM            Clean Alternative Fuel Vehicle Eligible              30   \n",
      "JTMAB3FV7P            Clean Alternative Fuel Vehicle Eligible              42   \n",
      "\n",
      "            Base MSRP  Legislative District DOL Vehicle ID  \\\n",
      "VIN (1-10)                                                   \n",
      "5YJ3E1EBXK          0                  37.0      477309682   \n",
      "5YJYGDEE3L          0                  23.0      109705683   \n",
      "KM8KRDAF5P          0                  26.0      230390492   \n",
      "5UXTA6C0XM          0                  35.0      267929112   \n",
      "JTMAB3FV7P          0                   2.0      236505139   \n",
      "\n",
      "                       Vehicle Location  \\\n",
      "VIN (1-10)                                \n",
      "5YJ3E1EBXK  POINT (-122.23825 47.49461)   \n",
      "5YJYGDEE3L  POINT (-122.64681 47.73689)   \n",
      "KM8KRDAF5P  POINT (-122.54729 47.42602)   \n",
      "5UXTA6C0XM  POINT (-122.81585 47.64509)   \n",
      "JTMAB3FV7P  POINT (-122.68993 46.88897)   \n",
      "\n",
      "                                        Electric Utility 2020 Census Tract  \n",
      "VIN (1-10)                                                                  \n",
      "5YJ3E1EBXK  CITY OF SEATTLE - (WA)|CITY OF TACOMA - (WA)       53033011902  \n",
      "5YJYGDEE3L                        PUGET SOUND ENERGY INC       53035091100  \n",
      "KM8KRDAF5P                        PUGET SOUND ENERGY INC       53035092802  \n",
      "5UXTA6C0XM                        PUGET SOUND ENERGY INC       53035091301  \n",
      "JTMAB3FV7P                        PUGET SOUND ENERGY INC       53067012530  \n"
     ]
    }
   ],
   "source": [
    "\n",
    "# Mostrar las primeras filas del archivo importado\n",
    "print(df_csv2.head())"
   ]
  },
  {
   "cell_type": "code",
   "execution_count": 17,
   "id": "f9b82df0-3a7a-47df-9696-4e0c4ac86829",
   "metadata": {},
   "outputs": [
    {
     "name": "stdout",
     "output_type": "stream",
     "text": [
      "Index(['Model Year', 'Electric Range', 'Base MSRP', 'Legislative District'], dtype='object')\n"
     ]
    }
   ],
   "source": [
    "# Identificar datos atípicos y su tratamiento para evitar que puedan distorsionar futuros análisis estadísticos\n",
    "\n",
    "\n",
    "# Parte I: Variables numéricas\n",
    "\n",
    "# Seleccionamos solo las columnas numéricas\n",
    "numerical_cols = df_csv2.select_dtypes(include=[np.number]).columns\n",
    "print(numerical_cols)"
   ]
  },
  {
   "cell_type": "code",
   "execution_count": 15,
   "id": "b409128b-e392-44a2-a7c1-ccb09fdd61fe",
   "metadata": {},
   "outputs": [
    {
     "name": "stdout",
     "output_type": "stream",
     "text": [
      "\n",
      "Datos atípicos identificados por IQR:\n",
      "Model Year: 6445 outliers\n",
      "Electric Range: 38660 outliers\n",
      "Base MSRP: 3241 outliers\n",
      "Legislative District: 0 outliers\n"
     ]
    }
   ],
   "source": [
    "# Usamos el rango intercuartílico (IQR)\n",
    "# IQR es la diferencia entre el tercer cuartil (Q3) y el primer cuartil (Q1). Los valores que caen fuera de este rango son considerados atípicos.\n",
    "\n",
    "def identify_outliers_iqr(df, numerical_cols):\n",
    "    outliers = {}\n",
    "    for col in numerical_cols:\n",
    "        Q1 = df[col].quantile(0.25)\n",
    "        Q3 = df[col].quantile(0.75)\n",
    "        IQR = Q3 - Q1\n",
    "        lower_bound = Q1 - 1.5 * IQR\n",
    "        upper_bound = Q3 + 1.5 * IQR\n",
    "        \n",
    "        # Identificar los outliers\n",
    "        outliers[col] = df[(df[col] < lower_bound) | (df[col] > upper_bound)]\n",
    "    return outliers\n",
    "\n",
    "# Identificar outliers usando el método IQR\n",
    "outliers_iqr = identify_outliers_iqr(df_csv2, numerical_cols)\n",
    "print(\"\\nDatos atípicos identificados por IQR:\")\n",
    "for col, data in outliers_iqr.items():\n",
    "    print(f\"{col}: {data.shape[0]} outliers\")"
   ]
  },
  {
   "cell_type": "code",
   "execution_count": 22,
   "id": "c90ea341-b992-4833-8324-0cb15ca55ab2",
   "metadata": {},
   "outputs": [
    {
     "name": "stdout",
     "output_type": "stream",
     "text": [
      "Mínimo Model Year: 2000\n",
      "Máximo Model Year: 2025\n",
      "\n",
      "\n",
      "Mínimo Electric Range: 0\n",
      "Máximo Electric Range: 337\n",
      "\n",
      "\n",
      "Precio de venta sugerido por el fabricante:\n",
      "Mínimo Base MSRP: 0\n",
      "Máximo Base MSRP: 845000\n"
     ]
    }
   ],
   "source": [
    "\n",
    "print(\"Mínimo Model Year:\", df_csv2['Model Year'].min())\n",
    "print(\"Máximo Model Year:\", df_csv2['Model Year'].max())\n",
    "print(\"\\n\")\n",
    "\n",
    "print(\"Mínimo Electric Range:\", df_csv2['Electric Range'].min())\n",
    "print(\"Máximo Electric Range:\", df_csv2['Electric Range'].max())\n",
    "print(\"\\n\")\n",
    "\n",
    "#No vamos a eliminar los datos atípicos del MSRP porque se desconocen muchos datos \n",
    "print(\"Precio de venta sugerido por el fabricante:\")\n",
    "print(\"Mínimo Base MSRP:\", df_csv2['Base MSRP'].min())\n",
    "print(\"Máximo Base MSRP:\", df_csv2['Base MSRP'].max())\n"
   ]
  },
  {
   "cell_type": "code",
   "execution_count": null,
   "id": "c477ebc3-7bd6-4d2f-9f5e-f958af978f34",
   "metadata": {},
   "outputs": [],
   "source": [
    "# Parte II: Variables NO Numéricas \n",
    "\n",
    "non_numeric_columns = df_csv2.select_dtypes(exclude=[np.number]).columns\n",
    "\n",
    "# Columnas a eliminar\n",
    "columns_to_exclude = ['Postal Code', 'City', 'State', 'Model']\n",
    "\n",
    "# Filtrar\n",
    "non_numeric_columns = [col for col in non_numeric_columns if col not in columns_to_exclude]"
   ]
  },
  {
   "cell_type": "code",
   "execution_count": null,
   "id": "afcc9ec8",
   "metadata": {},
   "outputs": [],
   "source": [
    "# Generar gráficos para cada columna no numérica\n",
    "for col in non_numeric_columns:\n",
    "    # Contar la frecuencia de las categorías\n",
    "    plt.figure(figsize=(10, 6))\n",
    "    sns.countplot(x=col, data=df_csv2, palette=\"Set2\")\n",
    "    \n",
    "    # Título y formato\n",
    "    plt.title(f'Frecuencia de las categorías en {col}', fontsize=16)\n",
    "    plt.xticks(rotation=45, ha='right', fontsize=12)\n",
    "    plt.yticks(fontsize=12)\n",
    "    \n",
    "    # Etiquetas y formato del gráfico\n",
    "    plt.xlabel(col, fontsize=14)\n",
    "    plt.ylabel('Frecuencia', fontsize=14)\n",
    "    \n",
    "    # Mostrar el gráfico\n",
    "    plt.tight_layout()\n",
    "    plt.show()\n"
   ]
  }
 ],
 "metadata": {
  "kernelspec": {
   "display_name": "Python 3 (ipykernel)",
   "language": "python",
   "name": "python3"
  },
  "language_info": {
   "codemirror_mode": {
    "name": "ipython",
    "version": 3
   },
   "file_extension": ".py",
   "mimetype": "text/x-python",
   "name": "python",
   "nbconvert_exporter": "python",
   "pygments_lexer": "ipython3",
   "version": "3.12.9"
  }
 },
 "nbformat": 4,
 "nbformat_minor": 5
}
